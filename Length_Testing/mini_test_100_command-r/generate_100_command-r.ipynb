{
 "cells": [
  {
   "cell_type": "code",
   "execution_count": 1,
   "id": "8311e00c-2a6f-499b-9504-f0b7b073134d",
   "metadata": {},
   "outputs": [],
   "source": [
    "import os\n",
    "import cohere\n",
    "import numpy as np\n",
    "import pandas as pd\n",
    "import matplotlib.pyplot as plt\n",
    "import seaborn as sns\n",
    "import time\n",
    "from tqdm import tqdm\n",
    "from retry import retry\n",
    "\n",
    "co = cohere.Client()"
   ]
  },
  {
   "cell_type": "code",
   "execution_count": 2,
   "id": "e9cf0805-4c73-477d-9129-a02bfd959f72",
   "metadata": {},
   "outputs": [],
   "source": [
    "synonym_categories = {\n",
    "    'max_limit': ['at most', 'no more than', 'less than', 'maximum', 'under'],\n",
    "    'min_limit': ['at least', 'no less than', 'more than', 'minimum', 'over'],\n",
    "    'approx': ['around', 'approximately', 'about', 'roughly', 'close to'],\n",
    "    'exact': ['exactly', '', 'right at', 'strictly', 'just'],\n",
    "}"
   ]
  },
  {
   "cell_type": "code",
   "execution_count": 3,
   "id": "af68c958-5990-4806-b8a4-7041c02dbb1a",
   "metadata": {},
   "outputs": [],
   "source": [
    "# DEF traverse synonym categories to generate + save num_responses of each synonym for each synonym_category\n",
    "\n",
    "def traverse_synonym_categories(synonym_categories):\n",
    "    for synonym_category, synonyms in synonym_categories.items():\n",
    "        for synonym in synonyms:\n",
    "            user_prompt = f'What is gravity? Your explanation should be {synonym} 150 words.'\n",
    "            user_prompt = user_prompt.replace('  ', ' ')\n",
    "            print(user_prompt)\n",
    "            save_responses(100, user_prompt, synonym_category, synonym)"
   ]
  },
  {
   "cell_type": "code",
   "execution_count": 4,
   "id": "3a6ccbbe-30c8-4d9b-a59e-ffd9e9bc78bf",
   "metadata": {},
   "outputs": [],
   "source": [
    "# DEF generate single response from user_prompt\n",
    "\n",
    "@retry(tries=10, delay=2, backoff=2)\n",
    "def generate_response(user_prompt):\n",
    "    response = co.chat(\n",
    "        model='command-r',\n",
    "        message=user_prompt\n",
    "    )\n",
    "    return response"
   ]
  },
  {
   "cell_type": "code",
   "execution_count": 5,
   "id": "e7b5094d-c990-4e4d-a015-7351cf729b85",
   "metadata": {},
   "outputs": [],
   "source": [
    "# DEF save num_responses for particular synonym with appropriate file names\n",
    "\n",
    "def save_responses(num_responses, user_prompt, synonym_category, synonym):\n",
    "    responses = []\n",
    "    for _ in tqdm(range(num_responses)):\n",
    "        response = generate_response(user_prompt)\n",
    "        responses.append(response.text)\n",
    "    df = pd.DataFrame(responses, columns=['response'])\n",
    "    df['length'] = df.response.apply(lambda x: len(x.split(' ')))\n",
    "    os.makedirs(f'{synonym_category}', exist_ok=True)\n",
    "    df.to_csv(f'./{synonym_category}/{synonym}_{int(time.time())}.csv')\n",
    "    return df"
   ]
  },
  {
   "cell_type": "code",
   "execution_count": 6,
   "id": "2ea0e5e2-a98f-4ae2-bad7-d9c7379b7b95",
   "metadata": {},
   "outputs": [
    {
     "name": "stdout",
     "output_type": "stream",
     "text": [
      "What is gravity? Your explanation should be at most 150 words.\n"
     ]
    },
    {
     "name": "stderr",
     "output_type": "stream",
     "text": [
      "100%|█████████████████████████████████████████| 100/100 [02:40<00:00,  1.60s/it]\n"
     ]
    },
    {
     "name": "stdout",
     "output_type": "stream",
     "text": [
      "What is gravity? Your explanation should be no more than 150 words.\n"
     ]
    },
    {
     "name": "stderr",
     "output_type": "stream",
     "text": [
      "100%|█████████████████████████████████████████| 100/100 [03:00<00:00,  1.80s/it]\n"
     ]
    },
    {
     "name": "stdout",
     "output_type": "stream",
     "text": [
      "What is gravity? Your explanation should be less than 150 words.\n"
     ]
    },
    {
     "name": "stderr",
     "output_type": "stream",
     "text": [
      "100%|█████████████████████████████████████████| 100/100 [02:42<00:00,  1.62s/it]\n"
     ]
    },
    {
     "name": "stdout",
     "output_type": "stream",
     "text": [
      "What is gravity? Your explanation should be maximum 150 words.\n"
     ]
    },
    {
     "name": "stderr",
     "output_type": "stream",
     "text": [
      "100%|█████████████████████████████████████████| 100/100 [02:58<00:00,  1.78s/it]\n"
     ]
    },
    {
     "name": "stdout",
     "output_type": "stream",
     "text": [
      "What is gravity? Your explanation should be under 150 words.\n"
     ]
    },
    {
     "name": "stderr",
     "output_type": "stream",
     "text": [
      "100%|█████████████████████████████████████████| 100/100 [02:50<00:00,  1.71s/it]\n"
     ]
    },
    {
     "name": "stdout",
     "output_type": "stream",
     "text": [
      "What is gravity? Your explanation should be at least 150 words.\n"
     ]
    },
    {
     "name": "stderr",
     "output_type": "stream",
     "text": [
      "100%|█████████████████████████████████████████| 100/100 [03:55<00:00,  2.35s/it]\n"
     ]
    },
    {
     "name": "stdout",
     "output_type": "stream",
     "text": [
      "What is gravity? Your explanation should be no less than 150 words.\n"
     ]
    },
    {
     "name": "stderr",
     "output_type": "stream",
     "text": [
      "100%|█████████████████████████████████████████| 100/100 [04:04<00:00,  2.44s/it]\n"
     ]
    },
    {
     "name": "stdout",
     "output_type": "stream",
     "text": [
      "What is gravity? Your explanation should be more than 150 words.\n"
     ]
    },
    {
     "name": "stderr",
     "output_type": "stream",
     "text": [
      "100%|█████████████████████████████████████████| 100/100 [04:11<00:00,  2.51s/it]\n"
     ]
    },
    {
     "name": "stdout",
     "output_type": "stream",
     "text": [
      "What is gravity? Your explanation should be minimum 150 words.\n"
     ]
    },
    {
     "name": "stderr",
     "output_type": "stream",
     "text": [
      "100%|█████████████████████████████████████████| 100/100 [04:06<00:00,  2.47s/it]\n"
     ]
    },
    {
     "name": "stdout",
     "output_type": "stream",
     "text": [
      "What is gravity? Your explanation should be over 150 words.\n"
     ]
    },
    {
     "name": "stderr",
     "output_type": "stream",
     "text": [
      "100%|█████████████████████████████████████████| 100/100 [03:53<00:00,  2.34s/it]\n"
     ]
    },
    {
     "name": "stdout",
     "output_type": "stream",
     "text": [
      "What is gravity? Your explanation should be around 150 words.\n"
     ]
    },
    {
     "name": "stderr",
     "output_type": "stream",
     "text": [
      "100%|█████████████████████████████████████████| 100/100 [03:14<00:00,  1.94s/it]\n"
     ]
    },
    {
     "name": "stdout",
     "output_type": "stream",
     "text": [
      "What is gravity? Your explanation should be approximately 150 words.\n"
     ]
    },
    {
     "name": "stderr",
     "output_type": "stream",
     "text": [
      "100%|█████████████████████████████████████████| 100/100 [03:15<00:00,  1.96s/it]\n"
     ]
    },
    {
     "name": "stdout",
     "output_type": "stream",
     "text": [
      "What is gravity? Your explanation should be about 150 words.\n"
     ]
    },
    {
     "name": "stderr",
     "output_type": "stream",
     "text": [
      "100%|█████████████████████████████████████████| 100/100 [03:05<00:00,  1.85s/it]\n"
     ]
    },
    {
     "name": "stdout",
     "output_type": "stream",
     "text": [
      "What is gravity? Your explanation should be roughly 150 words.\n"
     ]
    },
    {
     "name": "stderr",
     "output_type": "stream",
     "text": [
      "100%|█████████████████████████████████████████| 100/100 [03:14<00:00,  1.95s/it]\n"
     ]
    },
    {
     "name": "stdout",
     "output_type": "stream",
     "text": [
      "What is gravity? Your explanation should be close to 150 words.\n"
     ]
    },
    {
     "name": "stderr",
     "output_type": "stream",
     "text": [
      "100%|█████████████████████████████████████████| 100/100 [03:18<00:00,  1.99s/it]\n"
     ]
    },
    {
     "name": "stdout",
     "output_type": "stream",
     "text": [
      "What is gravity? Your explanation should be exactly 150 words.\n"
     ]
    },
    {
     "name": "stderr",
     "output_type": "stream",
     "text": [
      "100%|█████████████████████████████████████████| 100/100 [02:57<00:00,  1.78s/it]\n"
     ]
    },
    {
     "name": "stdout",
     "output_type": "stream",
     "text": [
      "What is gravity? Your explanation should be 150 words.\n"
     ]
    },
    {
     "name": "stderr",
     "output_type": "stream",
     "text": [
      "100%|█████████████████████████████████████████| 100/100 [03:15<00:00,  1.96s/it]\n"
     ]
    },
    {
     "name": "stdout",
     "output_type": "stream",
     "text": [
      "What is gravity? Your explanation should be right at 150 words.\n"
     ]
    },
    {
     "name": "stderr",
     "output_type": "stream",
     "text": [
      "100%|█████████████████████████████████████████| 100/100 [03:12<00:00,  1.93s/it]\n"
     ]
    },
    {
     "name": "stdout",
     "output_type": "stream",
     "text": [
      "What is gravity? Your explanation should be strictly 150 words.\n"
     ]
    },
    {
     "name": "stderr",
     "output_type": "stream",
     "text": [
      "100%|█████████████████████████████████████████| 100/100 [03:03<00:00,  1.84s/it]\n"
     ]
    },
    {
     "name": "stdout",
     "output_type": "stream",
     "text": [
      "What is gravity? Your explanation should be just 150 words.\n"
     ]
    },
    {
     "name": "stderr",
     "output_type": "stream",
     "text": [
      "100%|█████████████████████████████████████████| 100/100 [03:00<00:00,  1.81s/it]\n"
     ]
    }
   ],
   "source": [
    "# Run synonyms for all synonym_categories\n",
    "\n",
    "traverse_synonym_categories(synonym_categories)"
   ]
  }
 ],
 "metadata": {
  "kernelspec": {
   "display_name": "Python 3 (ipykernel)",
   "language": "python",
   "name": "python3"
  },
  "language_info": {
   "codemirror_mode": {
    "name": "ipython",
    "version": 3
   },
   "file_extension": ".py",
   "mimetype": "text/x-python",
   "name": "python",
   "nbconvert_exporter": "python",
   "pygments_lexer": "ipython3",
   "version": "3.11.5"
  }
 },
 "nbformat": 4,
 "nbformat_minor": 5
}
