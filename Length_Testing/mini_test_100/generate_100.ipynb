{
 "cells": [
  {
   "cell_type": "code",
   "execution_count": 25,
   "id": "ebde1ef4-8081-4601-b1e5-5435d9e13bd6",
   "metadata": {},
   "outputs": [],
   "source": [
    "import os\n",
    "import cohere\n",
    "import numpy as np\n",
    "import pandas as pd\n",
    "import matplotlib.pyplot as plt\n",
    "import seaborn as sns\n",
    "import time\n",
    "from tqdm import tqdm\n",
    "from retry import retry\n",
    "\n",
    "co = cohere.Client()"
   ]
  },
  {
   "cell_type": "code",
   "execution_count": 26,
   "id": "3606c72f-425e-4aca-8e6b-2848ab51acbe",
   "metadata": {},
   "outputs": [],
   "source": [
    "synonym_categories = {\n",
    "    'max_limit': ['at most', 'no more than', 'less than', 'maximum', 'under'],\n",
    "    'min_limit': ['at least', 'no less than', 'more than', 'minimum', 'over'],\n",
    "    'approx': ['around', 'approximately', 'about', 'roughly', 'close to'],\n",
    "    'exact': ['exactly', '', 'right at', 'strictly', 'just'],\n",
    "}"
   ]
  },
  {
   "cell_type": "code",
   "execution_count": 30,
   "id": "59e93546-bfeb-4c79-9231-9125b5547a3b",
   "metadata": {},
   "outputs": [],
   "source": [
    "# DEF traverse synonym categories to generate + save num_responses of each synonym for each synonym_category\n",
    "\n",
    "def traverse_synonym_categories(synonym_categories):\n",
    "    for synonym_category, synonyms in synonym_categories.items():\n",
    "        for synonym in synonyms:\n",
    "            user_prompt = f'What is gravity? Your explanation should be {synonym} 150 words.'\n",
    "            user_prompt = user_prompt.replace('  ', ' ')\n",
    "            print(user_prompt)\n",
    "            save_responses(100, user_prompt, synonym_category, synonym)"
   ]
  },
  {
   "cell_type": "code",
   "execution_count": 28,
   "id": "cb0cdf77-e294-4306-b155-108c2f191a63",
   "metadata": {},
   "outputs": [],
   "source": [
    "# DEF generate single response from user_prompt\n",
    "\n",
    "@retry(tries=10, delay=2, backoff=2)\n",
    "def generate_response(user_prompt):\n",
    "    response = co.chat(\n",
    "        model='command',\n",
    "        message=user_prompt\n",
    "    )\n",
    "    return response"
   ]
  },
  {
   "cell_type": "code",
   "execution_count": 29,
   "id": "b64846d9-86ae-436b-acb3-0cd2f591e997",
   "metadata": {},
   "outputs": [],
   "source": [
    "# DEF save num_responses for particular synonym with appropriate file names\n",
    "\n",
    "def save_responses(num_responses, user_prompt, synonym_category, synonym):\n",
    "    responses = []\n",
    "    for _ in tqdm(range(num_responses)):\n",
    "        response = generate_response(user_prompt)\n",
    "        responses.append(response.text)\n",
    "    df = pd.DataFrame(responses, columns=['response'])\n",
    "    df['length'] = df.response.apply(lambda x: len(x.split(' ')))\n",
    "    os.makedirs(f'{synonym_category}', exist_ok=True)\n",
    "    df.to_csv(f'./{synonym_category}/{synonym}_{int(time.time())}.csv')\n",
    "    return df"
   ]
  },
  {
   "cell_type": "code",
   "execution_count": 31,
   "id": "1262eac8-50f0-42fa-8af0-fe7ee31fd591",
   "metadata": {},
   "outputs": [
    {
     "name": "stdout",
     "output_type": "stream",
     "text": [
      "What is gravity? Your explanation should be at most 150 words.\n"
     ]
    },
    {
     "name": "stderr",
     "output_type": "stream",
     "text": [
      "100%|█████████████████████████████████████████| 100/100 [11:03<00:00,  6.64s/it]\n"
     ]
    },
    {
     "name": "stdout",
     "output_type": "stream",
     "text": [
      "What is gravity? Your explanation should be no more than 150 words.\n"
     ]
    },
    {
     "name": "stderr",
     "output_type": "stream",
     "text": [
      "100%|█████████████████████████████████████████| 100/100 [11:29<00:00,  6.89s/it]\n"
     ]
    },
    {
     "name": "stdout",
     "output_type": "stream",
     "text": [
      "What is gravity? Your explanation should be less than 150 words.\n"
     ]
    },
    {
     "name": "stderr",
     "output_type": "stream",
     "text": [
      "100%|█████████████████████████████████████████| 100/100 [11:28<00:00,  6.88s/it]\n"
     ]
    },
    {
     "name": "stdout",
     "output_type": "stream",
     "text": [
      "What is gravity? Your explanation should be maximum 150 words.\n"
     ]
    },
    {
     "name": "stderr",
     "output_type": "stream",
     "text": [
      "100%|█████████████████████████████████████████| 100/100 [11:14<00:00,  6.74s/it]\n"
     ]
    },
    {
     "name": "stdout",
     "output_type": "stream",
     "text": [
      "What is gravity? Your explanation should be under 150 words.\n"
     ]
    },
    {
     "name": "stderr",
     "output_type": "stream",
     "text": [
      "100%|█████████████████████████████████████████| 100/100 [11:28<00:00,  6.88s/it]\n"
     ]
    },
    {
     "name": "stdout",
     "output_type": "stream",
     "text": [
      "What is gravity? Your explanation should be at least 150 words.\n"
     ]
    },
    {
     "name": "stderr",
     "output_type": "stream",
     "text": [
      "100%|█████████████████████████████████████████| 100/100 [14:37<00:00,  8.77s/it]\n"
     ]
    },
    {
     "name": "stdout",
     "output_type": "stream",
     "text": [
      "What is gravity? Your explanation should be no less than 150 words.\n"
     ]
    },
    {
     "name": "stderr",
     "output_type": "stream",
     "text": [
      "100%|█████████████████████████████████████████| 100/100 [12:25<00:00,  7.46s/it]\n"
     ]
    },
    {
     "name": "stdout",
     "output_type": "stream",
     "text": [
      "What is gravity? Your explanation should be more than 150 words.\n"
     ]
    },
    {
     "name": "stderr",
     "output_type": "stream",
     "text": [
      "100%|█████████████████████████████████████████| 100/100 [16:47<00:00, 10.07s/it]\n"
     ]
    },
    {
     "name": "stdout",
     "output_type": "stream",
     "text": [
      "What is gravity? Your explanation should be minimum 150 words.\n"
     ]
    },
    {
     "name": "stderr",
     "output_type": "stream",
     "text": [
      "100%|█████████████████████████████████████████| 100/100 [16:14<00:00,  9.74s/it]\n"
     ]
    },
    {
     "name": "stdout",
     "output_type": "stream",
     "text": [
      "What is gravity? Your explanation should be over 150 words.\n"
     ]
    },
    {
     "name": "stderr",
     "output_type": "stream",
     "text": [
      "100%|█████████████████████████████████████████| 100/100 [14:35<00:00,  8.76s/it]\n"
     ]
    },
    {
     "name": "stdout",
     "output_type": "stream",
     "text": [
      "What is gravity? Your explanation should be around 150 words.\n"
     ]
    },
    {
     "name": "stderr",
     "output_type": "stream",
     "text": [
      "100%|█████████████████████████████████████████| 100/100 [11:34<00:00,  6.95s/it]\n"
     ]
    },
    {
     "name": "stdout",
     "output_type": "stream",
     "text": [
      "What is gravity? Your explanation should be approximately 150 words.\n"
     ]
    },
    {
     "name": "stderr",
     "output_type": "stream",
     "text": [
      "100%|█████████████████████████████████████████| 100/100 [11:27<00:00,  6.87s/it]\n"
     ]
    },
    {
     "name": "stdout",
     "output_type": "stream",
     "text": [
      "What is gravity? Your explanation should be about 150 words.\n"
     ]
    },
    {
     "name": "stderr",
     "output_type": "stream",
     "text": [
      "100%|█████████████████████████████████████████| 100/100 [12:24<00:00,  7.44s/it]\n"
     ]
    },
    {
     "name": "stdout",
     "output_type": "stream",
     "text": [
      "What is gravity? Your explanation should be roughly 150 words.\n"
     ]
    },
    {
     "name": "stderr",
     "output_type": "stream",
     "text": [
      "100%|█████████████████████████████████████████| 100/100 [11:20<00:00,  6.81s/it]\n"
     ]
    },
    {
     "name": "stdout",
     "output_type": "stream",
     "text": [
      "What is gravity? Your explanation should be close to 150 words.\n"
     ]
    },
    {
     "name": "stderr",
     "output_type": "stream",
     "text": [
      "100%|█████████████████████████████████████████| 100/100 [12:49<00:00,  7.69s/it]\n"
     ]
    },
    {
     "name": "stdout",
     "output_type": "stream",
     "text": [
      "What is gravity? Your explanation should be exactly 150 words.\n"
     ]
    },
    {
     "name": "stderr",
     "output_type": "stream",
     "text": [
      "100%|█████████████████████████████████████████| 100/100 [12:19<00:00,  7.39s/it]\n"
     ]
    },
    {
     "name": "stdout",
     "output_type": "stream",
     "text": [
      "What is gravity? Your explanation should be 150 words.\n"
     ]
    },
    {
     "name": "stderr",
     "output_type": "stream",
     "text": [
      "100%|█████████████████████████████████████████| 100/100 [12:54<00:00,  7.75s/it]\n"
     ]
    },
    {
     "name": "stdout",
     "output_type": "stream",
     "text": [
      "What is gravity? Your explanation should be right at 150 words.\n"
     ]
    },
    {
     "name": "stderr",
     "output_type": "stream",
     "text": [
      "100%|█████████████████████████████████████████| 100/100 [12:20<00:00,  7.41s/it]\n"
     ]
    },
    {
     "name": "stdout",
     "output_type": "stream",
     "text": [
      "What is gravity? Your explanation should be strictly 150 words.\n"
     ]
    },
    {
     "name": "stderr",
     "output_type": "stream",
     "text": [
      "100%|█████████████████████████████████████████| 100/100 [11:26<00:00,  6.87s/it]\n"
     ]
    },
    {
     "name": "stdout",
     "output_type": "stream",
     "text": [
      "What is gravity? Your explanation should be just 150 words.\n"
     ]
    },
    {
     "name": "stderr",
     "output_type": "stream",
     "text": [
      "100%|█████████████████████████████████████████| 100/100 [12:00<00:00,  7.20s/it]\n"
     ]
    }
   ],
   "source": [
    "# Run synonyms for all synonym_categories\n",
    "\n",
    "traverse_synonym_categories(synonym_categories)"
   ]
  },
  {
   "cell_type": "code",
   "execution_count": null,
   "id": "99a812e9-13ec-425a-896a-52806878b161",
   "metadata": {},
   "outputs": [],
   "source": []
  },
  {
   "cell_type": "code",
   "execution_count": null,
   "id": "6eee154b-0659-42b5-b520-bdc45d140c6a",
   "metadata": {},
   "outputs": [],
   "source": []
  },
  {
   "cell_type": "code",
   "execution_count": null,
   "id": "a42c1892-7ed7-447d-b7f6-b0cf4e9cd7d9",
   "metadata": {},
   "outputs": [],
   "source": []
  },
  {
   "cell_type": "code",
   "execution_count": null,
   "id": "a05b5541-6c1d-4f24-a88b-3011a1512232",
   "metadata": {},
   "outputs": [],
   "source": []
  },
  {
   "cell_type": "code",
   "execution_count": null,
   "id": "9f2e5d27-e4cd-4c19-b822-029b16b15025",
   "metadata": {},
   "outputs": [],
   "source": []
  },
  {
   "cell_type": "code",
   "execution_count": null,
   "id": "2edde8e1-4f1c-45b6-bce8-0a1385d29781",
   "metadata": {},
   "outputs": [],
   "source": []
  },
  {
   "cell_type": "code",
   "execution_count": null,
   "id": "754fcbd6-f0b4-4551-944a-5de7c9d6b146",
   "metadata": {},
   "outputs": [],
   "source": []
  },
  {
   "cell_type": "code",
   "execution_count": null,
   "id": "57119248-44e0-4a45-8d34-04c9b6ada01c",
   "metadata": {},
   "outputs": [],
   "source": []
  },
  {
   "cell_type": "code",
   "execution_count": null,
   "id": "858f29ee-885e-4e72-8f97-a91a000f6cd6",
   "metadata": {},
   "outputs": [],
   "source": []
  },
  {
   "cell_type": "code",
   "execution_count": null,
   "id": "b74ff3c0-e0e0-4955-b698-bd5f8f69f769",
   "metadata": {},
   "outputs": [],
   "source": [
    "# for synonym in ['at most', 'no more than', 'less than', 'max', 'under']:\n",
    "    user_prompt = f'What is gravity? Your explanation should be {synonym} 150 words.'\n",
    "    print(user_prompt)\n",
    "    save_responses(100, user_prompt, synonym)"
   ]
  },
  {
   "cell_type": "code",
   "execution_count": 6,
   "id": "5c51a795-78cc-42f7-a027-217ef2ca2bb0",
   "metadata": {},
   "outputs": [
    {
     "name": "stdout",
     "output_type": "stream",
     "text": [
      "max_limit ['at most', 'no more than', 'less than', 'maximum', 'under']\n",
      "min_limit ['at least', 'no less than', 'more than', 'minimum', 'over']\n",
      "approx ['around', 'approximately', 'about', 'roughly', 'close to']\n"
     ]
    }
   ],
   "source": [
    "for synonym_category, synonyms in synonym_categories.items():\n",
    "    print(synonym_category, synonyms)\n"
   ]
  },
  {
   "cell_type": "code",
   "execution_count": null,
   "id": "ee483083-da86-451b-9509-ee6cdd06df8a",
   "metadata": {},
   "outputs": [],
   "source": []
  },
  {
   "cell_type": "code",
   "execution_count": null,
   "id": "7be6d196-9e51-4352-abe4-ddd760c08311",
   "metadata": {},
   "outputs": [],
   "source": []
  },
  {
   "cell_type": "code",
   "execution_count": null,
   "id": "1bd657ce-6e34-43cf-b883-57246b2b8429",
   "metadata": {},
   "outputs": [],
   "source": []
  },
  {
   "cell_type": "code",
   "execution_count": null,
   "id": "cc9d4f8b-f8fb-406b-b369-2edbbdfcfe51",
   "metadata": {},
   "outputs": [],
   "source": []
  }
 ],
 "metadata": {
  "kernelspec": {
   "display_name": "Python 3 (ipykernel)",
   "language": "python",
   "name": "python3"
  },
  "language_info": {
   "codemirror_mode": {
    "name": "ipython",
    "version": 3
   },
   "file_extension": ".py",
   "mimetype": "text/x-python",
   "name": "python",
   "nbconvert_exporter": "python",
   "pygments_lexer": "ipython3",
   "version": "3.11.5"
  }
 },
 "nbformat": 4,
 "nbformat_minor": 5
}
